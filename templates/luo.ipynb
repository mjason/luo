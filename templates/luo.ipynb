{
 "cells": [
  {
   "cell_type": "markdown",
   "id": "ac60deeb-0d75-478e-823a-dfe39e73aa72",
   "metadata": {},
   "source": [
    "欢迎使用luo实验室"
   ]
  },
  {
   "cell_type": "code",
   "execution_count": 1,
   "id": "785fea13-bdfb-4bc6-80e7-1c53d8ca2f84",
   "metadata": {
    "tags": []
   },
   "outputs": [
    {
     "name": "stdout",
     "output_type": "stream",
     "text": [
      "0.2.0\n"
     ]
    }
   ],
   "source": [
    "# 初始化运行环境\n",
    "require 'luo'\n",
    "\n",
    "Luo.notebook_setup do |loader|\n",
    "  loader.push_dir(File.join(__dir__, 'agents'))\n",
    "end\n",
    "\n",
    "puts Luo::VERSION"
   ]
  },
  {
   "cell_type": "code",
   "execution_count": 2,
   "id": "87d49a44-a485-4331-b982-6a9143490771",
   "metadata": {
    "tags": []
   },
   "outputs": [
    {
     "data": {
      "text/plain": [
       "Luo::XinghuoFinalAgent"
      ]
     },
     "execution_count": 2,
     "metadata": {},
     "output_type": "execute_result"
    }
   ],
   "source": [
    "class Runner < XinghuoAgentRunner\n",
    "  register WeatherAgent\n",
    "  register TimeAgent\n",
    "  register XinghuoFinalAgent\n",
    "end"
   ]
  },
  {
   "cell_type": "code",
   "execution_count": 3,
   "id": "3b2b57cf-332e-4f4e-8b54-ee35950a0501",
   "metadata": {
    "tags": []
   },
   "outputs": [
    {
     "data": {
      "text/plain": [
       ":input"
      ]
     },
     "execution_count": 3,
     "metadata": {},
     "output_type": "execute_result"
    }
   ],
   "source": [
    "$runner = Runner.new\n",
    "\n",
    "def input(text)\n",
    "  context = $runner.call(text)\n",
    "  Helpers.display_md <<~MD\n",
    "  ## Input:\n",
    "  #{text}\n",
    "\n",
    "  ## Response:\n",
    "  #{context.response}\n",
    "\n",
    "  ## Final Result:\n",
    "  #{context.final_result}\n",
    "\n",
    "  ## History:\n",
    "  \n",
    "  ```ruby\n",
    "  #{context.histories.to_a}\n",
    "  ```\n",
    "    MD\n",
    "    puts \"\\n\\n\\n\"\n",
    "end"
   ]
  },
  {
   "cell_type": "code",
   "execution_count": 4,
   "id": "4e5c17eb-1c13-4547-8a2e-d9aa886031a6",
   "metadata": {
    "tags": []
   },
   "outputs": [
    {
     "name": "stdout",
     "output_type": "stream",
     "text": [
      "** call aiui weather **\n"
     ]
    },
    {
     "data": {
      "text/html": [
       "<style>.highlight table td { padding: 5px; }\n",
       ".highlight table pre { margin: 0; }\n",
       ".highlight, .highlight .w {\n",
       "  color: #24292f;\n",
       "  background-color: #f6f8fa;\n",
       "}\n",
       ".highlight .k, .highlight .kd, .highlight .kn, .highlight .kp, .highlight .kr, .highlight .kt, .highlight .kv {\n",
       "  color: #cf222e;\n",
       "}\n",
       ".highlight .gr {\n",
       "  color: #f6f8fa;\n",
       "}\n",
       ".highlight .gd {\n",
       "  color: #82071e;\n",
       "  background-color: #ffebe9;\n",
       "}\n",
       ".highlight .nb {\n",
       "  color: #953800;\n",
       "}\n",
       ".highlight .nc {\n",
       "  color: #953800;\n",
       "}\n",
       ".highlight .no {\n",
       "  color: #953800;\n",
       "}\n",
       ".highlight .nn {\n",
       "  color: #953800;\n",
       "}\n",
       ".highlight .sr {\n",
       "  color: #116329;\n",
       "}\n",
       ".highlight .na {\n",
       "  color: #116329;\n",
       "}\n",
       ".highlight .nt {\n",
       "  color: #116329;\n",
       "}\n",
       ".highlight .gi {\n",
       "  color: #116329;\n",
       "  background-color: #dafbe1;\n",
       "}\n",
       ".highlight .kc {\n",
       "  color: #0550ae;\n",
       "}\n",
       ".highlight .l, .highlight .ld, .highlight .m, .highlight .mb, .highlight .mf, .highlight .mh, .highlight .mi, .highlight .il, .highlight .mo, .highlight .mx {\n",
       "  color: #0550ae;\n",
       "}\n",
       ".highlight .sb {\n",
       "  color: #0550ae;\n",
       "}\n",
       ".highlight .bp {\n",
       "  color: #0550ae;\n",
       "}\n",
       ".highlight .ne {\n",
       "  color: #0550ae;\n",
       "}\n",
       ".highlight .nl {\n",
       "  color: #0550ae;\n",
       "}\n",
       ".highlight .py {\n",
       "  color: #0550ae;\n",
       "}\n",
       ".highlight .nv, .highlight .vc, .highlight .vg, .highlight .vi, .highlight .vm {\n",
       "  color: #0550ae;\n",
       "}\n",
       ".highlight .o, .highlight .ow {\n",
       "  color: #0550ae;\n",
       "}\n",
       ".highlight .gh {\n",
       "  color: #0550ae;\n",
       "  font-weight: bold;\n",
       "}\n",
       ".highlight .gu {\n",
       "  color: #0550ae;\n",
       "  font-weight: bold;\n",
       "}\n",
       ".highlight .s, .highlight .sa, .highlight .sc, .highlight .dl, .highlight .sd, .highlight .s2, .highlight .se, .highlight .sh, .highlight .sx, .highlight .s1, .highlight .ss {\n",
       "  color: #0a3069;\n",
       "}\n",
       ".highlight .nd {\n",
       "  color: #8250df;\n",
       "}\n",
       ".highlight .nf, .highlight .fm {\n",
       "  color: #8250df;\n",
       "}\n",
       ".highlight .err {\n",
       "  color: #f6f8fa;\n",
       "  background-color: #82071e;\n",
       "}\n",
       ".highlight .c, .highlight .ch, .highlight .cd, .highlight .cm, .highlight .cp, .highlight .cpf, .highlight .c1, .highlight .cs {\n",
       "  color: #6e7781;\n",
       "}\n",
       ".highlight .gl {\n",
       "  color: #6e7781;\n",
       "}\n",
       ".highlight .gt {\n",
       "  color: #6e7781;\n",
       "}\n",
       ".highlight .ni {\n",
       "  color: #24292f;\n",
       "}\n",
       ".highlight .si {\n",
       "  color: #24292f;\n",
       "}\n",
       ".highlight .ge {\n",
       "  color: #24292f;\n",
       "  font-style: italic;\n",
       "}\n",
       ".highlight .gs {\n",
       "  color: #24292f;\n",
       "  font-weight: bold;\n",
       "}</style>\n",
       "<h2>Input:</h2>\n",
       "\n",
       "<p>明天的天气怎么样</p>\n",
       "\n",
       "<h2>Response:</h2>\n",
       "\n",
       "<p>调用工具：天气查询。</p>\n",
       "\n",
       "<h2>Final Result:</h2>\n",
       "\n",
       "<p>北京市明天全天小雨转多云，出门记得带伞，气温16℃ ~ 26℃，有南风转北风微风，气候温暖。</p>\n",
       "\n",
       "<h2>History:</h2>\n",
       "<pre class=\"highlight\"><span class=\"p\">[{</span><span class=\"ss\">:role</span><span class=\"o\">=&gt;</span><span class=\"s2\">\"user\"</span><span class=\"p\">,</span> <span class=\"ss\">:content</span><span class=\"o\">=&gt;</span><span class=\"s2\">\"明天的天气怎么样\"</span><span class=\"p\">},</span> <span class=\"p\">{</span><span class=\"ss\">:role</span><span class=\"o\">=&gt;</span><span class=\"s2\">\"assistant\"</span><span class=\"p\">,</span> <span class=\"ss\">:content</span><span class=\"o\">=&gt;</span><span class=\"s2\">\"北京市明天全天小雨转多云，出门记得带伞，气温16℃ ~ 26℃，有南风转北风微风，气候温暖。\"</span><span class=\"p\">}]</span>\n",
       "</pre>\n"
      ],
      "text/plain": [
       "\"<style>.highlight table td { padding: 5px; }\\n.highlight table pre { margin: 0; }\\n.highlight, .highlight .w {\\n  color: #24292f;\\n  background-color: #f6f8fa;\\n}\\n.highlight .k, .highlight .kd, .highlight .kn, .highlight .kp, .highlight .kr, .highlight .kt, .highlight .kv {\\n  color: #cf222e;\\n}\\n.highlight .gr {\\n  color: #f6f8fa;\\n}\\n.highlight .gd {\\n  color: #82071e;\\n  background-color: #ffebe9;\\n}\\n.highlight .nb {\\n  color: #953800;\\n}\\n.highlight .nc {\\n  color: #953800;\\n}\\n.highlight .no {\\n  color: #953800;\\n}\\n.highlight .nn {\\n  color: #953800;\\n}\\n.highlight .sr {\\n  color: #116329;\\n}\\n.highlight .na {\\n  color: #116329;\\n}\\n.highlight .nt {\\n  color: #116329;\\n}\\n.highlight .gi {\\n  color: #116329;\\n  background-color: #dafbe1;\\n}\\n.highlight .kc {\\n  color: #0550ae;\\n}\\n.highlight .l, .highlight .ld, .highlight .m, .highlight .mb, .highlight .mf, .highlight .mh, .highlight .mi, .highlight .il, .highlight .mo, .highlight .mx {\\n  color: #0550ae;\\n}\\n.highlight .sb {\\n  color: #0550ae;\\n}\\n.highlight .bp {\\n  color: #0550ae;\\n}\\n.highlight .ne {\\n  color: #0550ae;\\n}\\n.highlight .nl {\\n  color: #0550ae;\\n}\\n.highlight .py {\\n  color: #0550ae;\\n}\\n.highlight .nv, .highlight .vc, .highlight .vg, .highlight .vi, .highlight .vm {\\n  color: #0550ae;\\n}\\n.highlight .o, .highlight .ow {\\n  color: #0550ae;\\n}\\n.highlight .gh {\\n  color: #0550ae;\\n  font-weight: bold;\\n}\\n.highlight .gu {\\n  color: #0550ae;\\n  font-weight: bold;\\n}\\n.highlight .s, .highlight .sa, .highlight .sc, .highlight .dl, .highlight .sd, .highlight .s2, .highlight .se, .highlight .sh, .highlight .sx, .highlight .s1, .highlight .ss {\\n  color: #0a3069;\\n}\\n.highlight .nd {\\n  color: #8250df;\\n}\\n.highlight .nf, .highlight .fm {\\n  color: #8250df;\\n}\\n.highlight .err {\\n  color: #f6f8fa;\\n  background-color: #82071e;\\n}\\n.highlight .c, .highlight .ch, .highlight .cd, .highlight .cm, .highlight .cp, .highlight .cpf, .highlight .c1, .highlight .cs {\\n  color: #6e7781;\\n}\\n.highlight .gl {\\n  color: #6e7781;\\n}\\n.highlight .gt {\\n  color: #6e7781;\\n}\\n.highlight .ni {\\n  color: #24292f;\\n}\\n.highlight .si {\\n  color: #24292f;\\n}\\n.highlight .ge {\\n  color: #24292f;\\n  font-style: italic;\\n}\\n.highlight .gs {\\n  color: #24292f;\\n  font-weight: bold;\\n}</style>\\n<h2>Input:</h2>\\n\\n<p>明天的天气怎么样</p>\\n\\n<h2>Response:</h2>\\n\\n<p>调用工具：天气查询。</p>\\n\\n<h2>Final Result:</h2>\\n\\n<p>北京市明天全天小雨转多云，出门记得带伞，气温16℃ ~ 26℃，有南风转北风微风，气候温暖。</p>\\n\\n<h2>History:</h2>\\n<pre class=\\\"highlight\\\"><span class=\\\"p\\\">[{</span><span class=\\\"ss\\\">:role</span><span class=\\\"o\\\">=&gt;</span><span class=\\\"s2\\\">\\\"user\\\"</span><span class=\\\"p\\\">,</span> <span class=\\\"ss\\\">:content</span><span class=\\\"o\\\">=&gt;</span><span class=\\\"s2\\\">\\\"明天的天气怎么样\\\"</span><span class=\\\"p\\\">},</span> <span class=\\\"p\\\">{</span><span class=\\\"ss\\\">:role</span><span class=\\\"o\\\">=&gt;</span><span class=\\\"s2\\\">\\\"assistant\\\"</span><span class=\\\"p\\\">,</span> <span class=\\\"ss\\\">:content</span><span class=\\\"o\\\">=&gt;</span><span class=\\\"s2\\\">\\\"北京市明天全天小雨转多云，出门记得带伞，气温16℃ ~ 26℃，有南风转北风微风，气候温暖。\\\"</span><span class=\\\"p\\\">}]</span>\\n</pre>\\n\""
      ]
     },
     "metadata": {},
     "output_type": "display_data"
    },
    {
     "name": "stdout",
     "output_type": "stream",
     "text": [
      "\n",
      "\n",
      "\n"
     ]
    }
   ],
   "source": [
    "input \"明天的天气怎么样\""
   ]
  }
 ],
 "metadata": {
  "kernelspec": {
   "display_name": "Ruby 3.2.1",
   "language": "ruby",
   "name": "ruby"
  },
  "language_info": {
   "file_extension": ".rb",
   "mimetype": "application/x-ruby",
   "name": "ruby",
   "version": "3.2.1"
  }
 },
 "nbformat": 4,
 "nbformat_minor": 5
}
