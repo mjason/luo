{
 "cells": [
  {
   "cell_type": "markdown",
   "id": "ac60deeb-0d75-478e-823a-dfe39e73aa72",
   "metadata": {},
   "source": [
    "欢迎使用luo实验室"
   ]
  },
  {
   "cell_type": "code",
   "execution_count": 1,
   "id": "785fea13-bdfb-4bc6-80e7-1c53d8ca2f84",
   "metadata": {
    "tags": []
   },
   "outputs": [
    {
     "data": {
      "text/plain": [
       "true"
      ]
     },
     "execution_count": 1,
     "metadata": {},
     "output_type": "execute_result"
    }
   ],
   "source": [
    "# 初始化运行环境\n",
    "require_relative \"init\"\n",
    "require 'pry'\n",
    "IRuby::Kernel.instance.switch_backend!(:pry)"
   ]
  },
  {
   "cell_type": "code",
   "execution_count": 2,
   "id": "87d49a44-a485-4331-b982-6a9143490771",
   "metadata": {
    "tags": []
   },
   "outputs": [
    {
     "data": {
      "text/plain": [
       "Luo::XinghuoFinalAgent"
      ]
     },
     "execution_count": 2,
     "metadata": {},
     "output_type": "execute_result"
    }
   ],
   "source": [
    "class Runner < XinghuoAgentRunner\n",
    "  register WeatherAgent\n",
    "  register TimeAgent\n",
    "  register XinghuoFinalAgent\n",
    "end"
   ]
  },
  {
   "cell_type": "code",
   "execution_count": 4,
   "id": "3b2b57cf-332e-4f4e-8b54-ee35950a0501",
   "metadata": {
    "tags": []
   },
   "outputs": [
    {
     "data": {
      "text/plain": [
       ":input"
      ]
     },
     "execution_count": 4,
     "metadata": {},
     "output_type": "execute_result"
    }
   ],
   "source": [
    "$runner = Runner.new\n",
    "\n",
    "def input(text)\n",
    "  context = $runner.call(text)\n",
    "  Helpers.print_md <<~MD\n",
    "  ## Input:\n",
    "  #{text}\n",
    "\n",
    "  ## Response:\n",
    "  #{context.response}\n",
    "\n",
    "  ## Final Result:\n",
    "  #{context.final_result}\n",
    "\n",
    "  ## History:\n",
    "  ```ruby\n",
    "  #{context.histories.to_a}\n",
    "  ```\n",
    "    MD\n",
    "    puts \"\\n\\n\\n\"\n",
    "end"
   ]
  },
  {
   "cell_type": "code",
   "execution_count": 5,
   "id": "3add85ed-2b49-4a5b-b625-eaf915825050",
   "metadata": {
    "tags": []
   },
   "outputs": [
    {
     "name": "stdout",
     "output_type": "stream",
     "text": [
      "** call aiui weather **\n",
      "  Input:\n",
      "  明天的天气怎么样\n",
      "\n",
      "  Response:\n",
      "  调用工具：天气查询。\n",
      "\n",
      "  Final Result:\n",
      "  明天北京市全天多云，气温16℃ ~ 28℃，空气质量良，有南风微风，气候温暖。\n",
      "\n",
      "  History:\n",
      "  [{:role=>\"user\", :content=>\"明天的天气怎么样\"}, {:role=>\"assistant\", \n",
      "  :content=>\"明天北京市全天多云，气温16℃ ~ \n",
      "  28℃，空气质量良，有南风微风，气候温暖。\"}]\n",
      "\n",
      "\n",
      "\n"
     ]
    }
   ],
   "source": [
    "input \"明天的天气怎么样\""
   ]
  },
  {
   "cell_type": "code",
   "execution_count": null,
   "id": "ca165db3-1711-41c3-85eb-3f7f02d04e0a",
   "metadata": {},
   "outputs": [],
   "source": []
  }
 ],
 "metadata": {
  "kernelspec": {
   "display_name": "Ruby 3.2.2",
   "language": "ruby",
   "name": "ruby"
  },
  "language_info": {
   "file_extension": ".rb",
   "mimetype": "application/x-ruby",
   "name": "ruby",
   "version": "3.2.2"
  }
 },
 "nbformat": 4,
 "nbformat_minor": 5
}
